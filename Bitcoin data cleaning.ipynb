{
 "cells": [
  {
   "cell_type": "markdown",
   "id": "6c0acdd4",
   "metadata": {},
   "source": [
    "# Bitcoin data cleaning\n",
    "\n",
    "\n",
    "Dataset obtained from https://www.kaggle.com/datasets/mczielinski/bitcoin-historical-data, where there was over 4 million entries of data. Due to large amount of data, the size of the file was 300,000 KB, and made it too big to push to github. We used the fear and greed index dataset as a restriction, where it starts from 2018-02-01. So we will only use the data from 2018-02-01, to match the time frame. \n",
    "\n",
    "After cleaning the data, we then export it in to the file data"
   ]
  },
  {
   "cell_type": "code",
   "execution_count": 1,
   "id": "67b19767",
   "metadata": {},
   "outputs": [],
   "source": [
    "# Importing the libraries to be used:\n",
    "from datetime import datetime\n",
    "import numpy as np\n",
    "import pandas as pd\n",
    "import requests"
   ]
  },
  {
   "cell_type": "code",
   "execution_count": 2,
   "id": "4a5a0741",
   "metadata": {},
   "outputs": [],
   "source": [
    "def date_convertor(timestamp):\n",
    "    return datetime.fromtimestamp(float(timestamp))"
   ]
  },
  {
   "cell_type": "code",
   "execution_count": 3,
   "id": "92e7d7cc",
   "metadata": {},
   "outputs": [],
   "source": [
    "bitcoin_data = pd.read_csv(\"data/bitstampUSD_1-min_data_2012-01-01_to_2021-03-31.csv\", sep=\",\",parse_dates = [\"Timestamp\"], date_parser = date_convertor) "
   ]
  },
  {
   "cell_type": "code",
   "execution_count": 4,
   "id": "86520db9",
   "metadata": {},
   "outputs": [
    {
     "name": "stdout",
     "output_type": "stream",
     "text": [
      "                  Timestamp      Open      High       Low     Close  \\\n",
      "3098119 2017-11-25 02:03:00   8185.00   8185.00   8180.11   8185.00   \n",
      "3098120 2017-11-25 02:04:00   8185.00   8185.00   8185.00   8185.00   \n",
      "3098121 2017-11-25 02:05:00   8185.00   8185.14   8185.00   8185.14   \n",
      "3098122 2017-11-25 02:06:00   8182.01   8182.01   8182.01   8182.01   \n",
      "3098123 2017-11-25 02:07:00   8185.13   8185.14   8185.13   8185.14   \n",
      "...                     ...       ...       ...       ...       ...   \n",
      "4857372 2021-03-30 19:56:00  58714.31  58714.31  58686.00  58686.00   \n",
      "4857373 2021-03-30 19:57:00  58683.97  58693.43  58683.97  58685.81   \n",
      "4857374 2021-03-30 19:58:00  58693.43  58723.84  58693.43  58723.84   \n",
      "4857375 2021-03-30 19:59:00  58742.18  58770.38  58742.18  58760.59   \n",
      "4857376 2021-03-30 20:00:00  58767.75  58778.18  58755.97  58778.18   \n",
      "\n",
      "         Volume_(BTC)  Volume_(Currency)  Weighted_Price  \n",
      "3098119      0.520570        4259.672912     8182.705868  \n",
      "3098120      0.182275        1491.921612     8185.000000  \n",
      "3098121      5.946146       48669.992922     8185.131957  \n",
      "3098122      0.455613        3727.826440     8182.010000  \n",
      "3098123      0.724757        5932.233175     8185.131533  \n",
      "...               ...                ...             ...  \n",
      "4857372      1.384487       81259.372187    58692.753339  \n",
      "4857373      7.294848      428158.146640    58693.226508  \n",
      "4857374      1.705682      100117.070370    58696.198496  \n",
      "4857375      0.720415       42332.958633    58761.866202  \n",
      "4857376      2.712831      159417.751000    58764.349363  \n",
      "\n",
      "[1713769 rows x 8 columns]\n"
     ]
    }
   ],
   "source": [
    "bitcoin_clean = bitcoin_data.dropna()\n",
    "bitcoin_clean = bitcoin_clean[1900000:]\n",
    "print(bitcoin_clean)"
   ]
  },
  {
   "cell_type": "code",
   "execution_count": 5,
   "id": "6dcc2732",
   "metadata": {},
   "outputs": [],
   "source": [
    "timestamp = np.array(bitcoin_clean[\"Timestamp\"])"
   ]
  },
  {
   "cell_type": "code",
   "execution_count": 13,
   "id": "2c329aea",
   "metadata": {},
   "outputs": [],
   "source": [
    "bitcoin_day = []\n",
    "start_index = 0\n",
    "prev = timestamp[0]\n",
    "for i in range(timestamp.shape[0]):\n",
    "    if str(prev)[:10] not in str(timestamp[i])[:10]:\n",
    "        if str(prev)[:10] >= \"2018-01-31\":\n",
    "            bitcoin_day.append(bitcoin_clean.iloc[i])\n",
    "        prev = timestamp[i]"
   ]
  },
  {
   "cell_type": "code",
   "execution_count": 14,
   "id": "00c76d72",
   "metadata": {},
   "outputs": [],
   "source": [
    "bitcoin_pd = pd.DataFrame(bitcoin_day)"
   ]
  },
  {
   "cell_type": "code",
   "execution_count": 15,
   "id": "fab36f61",
   "metadata": {},
   "outputs": [
    {
     "name": "stdout",
     "output_type": "stream",
     "text": [
      "1154\n"
     ]
    }
   ],
   "source": [
    "day_time = np.array(bitcoin_pd[\"Timestamp\"])\n",
    "print(day_time.shape[0])\n",
    "for i in range(day_time.shape[0]):\n",
    "    new_date = str(day_time[i])[5:10] + str(day_time[i])[:5]\n",
    "    bitcoin_pd.replace(day_time[i], new_date)"
   ]
  },
  {
   "cell_type": "code",
   "execution_count": 39,
   "id": "7b5b3d81",
   "metadata": {},
   "outputs": [
    {
     "name": "stdout",
     "output_type": "stream",
     "text": [
      "        index       Date      Open      High       Low     Close  \\\n",
      "0     3195916 2018-02-01  10092.62  10109.93  10092.62  10109.93   \n",
      "1     3197356 2018-02-02   8630.00   8630.00   8594.12   8630.00   \n",
      "2     3198796 2018-02-03   8408.72   8419.79   8400.10   8414.00   \n",
      "3     3200236 2018-02-04   9044.01   9044.01   9030.29   9031.93   \n",
      "4     3201676 2018-02-05   8278.56   8286.74   8254.07   8254.07   \n",
      "...       ...        ...       ...       ...       ...       ...   \n",
      "1149  4850416 2021-03-26  52449.23  52537.81  52449.23  52527.35   \n",
      "1150  4851856 2021-03-27  54821.66  54856.01  54821.66  54856.01   \n",
      "1151  4853296 2021-03-28  56095.81  56158.59  56095.81  56149.01   \n",
      "1152  4854736 2021-03-29  55361.25  55417.15  55361.25  55401.67   \n",
      "1153  4856176 2021-03-30  57069.04  57072.89  57033.66  57051.13   \n",
      "\n",
      "      Volume_(BTC)  Volume_(Currency)  Weighted_Price  \n",
      "0         0.270443        2733.799973    10108.600991  \n",
      "1         9.315129       80242.200123     8614.179884  \n",
      "2         1.044576        8789.768163     8414.672765  \n",
      "3         2.555955       23095.214725     9035.843862  \n",
      "4         0.271247        2241.175148     8262.495249  \n",
      "...            ...                ...             ...  \n",
      "1149      2.742287      143985.370640    52505.587896  \n",
      "1150      0.261643       14346.416748    54832.004555  \n",
      "1151      0.898928       50459.981106    56133.517533  \n",
      "1152      1.314104       72804.822995    55402.653850  \n",
      "1153      0.857266       48912.428151    57056.299759  \n",
      "\n",
      "[1154 rows x 9 columns]\n"
     ]
    }
   ],
   "source": [
    "bitcoin_pd = bitcoin_pd.rename(columns={\"Timestamp\":\"Date\"})\n",
    "bitcoin_pd = bitcoin_pd.reset_index()\n",
    "print(bitcoin_pd)"
   ]
  },
  {
   "cell_type": "markdown",
   "id": "d692d589",
   "metadata": {},
   "source": [
    " # Extracting Fear and Greed Index"
   ]
  },
  {
   "cell_type": "code",
   "execution_count": 17,
   "id": "1ff41354",
   "metadata": {},
   "outputs": [],
   "source": [
    "response = requests.get(\"https://api.alternative.me/fng/?limit=1600&format=csv&date_format=us\")"
   ]
  },
  {
   "cell_type": "code",
   "execution_count": 25,
   "id": "8b600d14",
   "metadata": {},
   "outputs": [],
   "source": [
    "fngIndex = []\n",
    "startIndex = 0\n",
    "endIndex = 0\n",
    "count = 0\n",
    "label = [\"Date\", \"fng_value\", \"fng_classification\"]\n",
    "for i in response.iter_lines():\n",
    "    line = i.decode(\"utf-8\").strip(\"\\t\\n\").split(\",\")\n",
    "    if \"03-30-2021\" == line[0]:\n",
    "        startIndex = count\n",
    "    if \"02-01-2018\" == line[0]:\n",
    "        endIndex = count+1\n",
    "    count+=1\n",
    "    fngIndex.append(line)\n",
    "fngIndex = fngIndex[startIndex:endIndex]"
   ]
  },
  {
   "cell_type": "code",
   "execution_count": 26,
   "id": "c795e151",
   "metadata": {},
   "outputs": [
    {
     "name": "stdout",
     "output_type": "stream",
     "text": [
      "            Date fng_value fng_classification\n",
      "0     03-30-2021        72              Greed\n",
      "1     03-29-2021        72              Greed\n",
      "2     03-28-2021        74              Greed\n",
      "3     03-27-2021        65              Greed\n",
      "4     03-26-2021        54            Neutral\n",
      "...          ...       ...                ...\n",
      "1146  02-05-2018        11       Extreme Fear\n",
      "1147  02-04-2018        24       Extreme Fear\n",
      "1148  02-03-2018        40               Fear\n",
      "1149  02-02-2018        15       Extreme Fear\n",
      "1150  02-01-2018        30               Fear\n",
      "\n",
      "[1151 rows x 3 columns]\n"
     ]
    }
   ],
   "source": [
    "fngArr = np.array(fngIndex)\n",
    "fngPd = pd.DataFrame(fngArr, columns = label)\n",
    "print(fngPd)"
   ]
  },
  {
   "cell_type": "markdown",
   "id": "11f44536",
   "metadata": {},
   "source": [
    "# Combining Fear and Greed w/ Bitcoin data"
   ]
  },
  {
   "cell_type": "code",
   "execution_count": 40,
   "id": "11af5d83",
   "metadata": {},
   "outputs": [
    {
     "name": "stdout",
     "output_type": "stream",
     "text": [
      "          index                 Date      Open      High       Low     Close  \\\n",
      "0     3195916.0  2018-02-01 00:00:00  10092.62  10109.93  10092.62  10109.93   \n",
      "1     3197356.0  2018-02-02 00:00:00   8630.00   8630.00   8594.12   8630.00   \n",
      "2     3198796.0  2018-02-03 00:00:00   8408.72   8419.79   8400.10   8414.00   \n",
      "3     3200236.0  2018-02-04 00:00:00   9044.01   9044.01   9030.29   9031.93   \n",
      "4     3201676.0  2018-02-05 00:00:00   8278.56   8286.74   8254.07   8254.07   \n",
      "...         ...                  ...       ...       ...       ...       ...   \n",
      "1146        NaN           02-05-2018       NaN       NaN       NaN       NaN   \n",
      "1147        NaN           02-04-2018       NaN       NaN       NaN       NaN   \n",
      "1148        NaN           02-03-2018       NaN       NaN       NaN       NaN   \n",
      "1149        NaN           02-02-2018       NaN       NaN       NaN       NaN   \n",
      "1150        NaN           02-01-2018       NaN       NaN       NaN       NaN   \n",
      "\n",
      "      Volume_(BTC)  Volume_(Currency)  Weighted_Price fng_value  \\\n",
      "0         0.270443        2733.799973    10108.600991       NaN   \n",
      "1         9.315129       80242.200123     8614.179884       NaN   \n",
      "2         1.044576        8789.768163     8414.672765       NaN   \n",
      "3         2.555955       23095.214725     9035.843862       NaN   \n",
      "4         0.271247        2241.175148     8262.495249       NaN   \n",
      "...            ...                ...             ...       ...   \n",
      "1146           NaN                NaN             NaN        11   \n",
      "1147           NaN                NaN             NaN        24   \n",
      "1148           NaN                NaN             NaN        40   \n",
      "1149           NaN                NaN             NaN        15   \n",
      "1150           NaN                NaN             NaN        30   \n",
      "\n",
      "     fng_classification  \n",
      "0                   NaN  \n",
      "1                   NaN  \n",
      "2                   NaN  \n",
      "3                   NaN  \n",
      "4                   NaN  \n",
      "...                 ...  \n",
      "1146       Extreme Fear  \n",
      "1147       Extreme Fear  \n",
      "1148               Fear  \n",
      "1149       Extreme Fear  \n",
      "1150               Fear  \n",
      "\n",
      "[2305 rows x 11 columns]\n"
     ]
    }
   ],
   "source": [
    "df3 =bitcoin_pd.append(fngPd)\n",
    "print(df3)"
   ]
  },
  {
   "cell_type": "markdown",
   "id": "833f7247",
   "metadata": {},
   "source": [
    "# Converting to CSV"
   ]
  },
  {
   "cell_type": "code",
   "execution_count": null,
   "id": "de9a23c8",
   "metadata": {},
   "outputs": [],
   "source": [
    "#if not(os.path.exists(\"data/fear-n-greed-02-01-2018-to-03-30-2021.csv\")):\n",
    "#    DataFrame(bitcoin_day).to_csv(\"data/bitstamp_2018-02-31_to_2021_03_30.csv\") "
   ]
  },
  {
   "cell_type": "code",
   "execution_count": null,
   "id": "e82ebe53",
   "metadata": {},
   "outputs": [],
   "source": [
    "#if not(os.path.exists(\"data/bitstamp_2018-02-01_to_2021_03_31.csv\")):\n",
    "#    DataFrame(bitcoin_day).to_csv(\"data/bitstamp_2020-03-31_to_2021_03_31.csv\")"
   ]
  }
 ],
 "metadata": {
  "kernelspec": {
   "display_name": "Python 3 (ipykernel)",
   "language": "python",
   "name": "python3"
  },
  "language_info": {
   "codemirror_mode": {
    "name": "ipython",
    "version": 3
   },
   "file_extension": ".py",
   "mimetype": "text/x-python",
   "name": "python",
   "nbconvert_exporter": "python",
   "pygments_lexer": "ipython3",
   "version": "3.8.5"
  }
 },
 "nbformat": 4,
 "nbformat_minor": 5
}
