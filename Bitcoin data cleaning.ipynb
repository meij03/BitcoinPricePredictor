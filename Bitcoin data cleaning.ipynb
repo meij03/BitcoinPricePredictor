{
 "cells": [
  {
   "cell_type": "markdown",
   "id": "6c0acdd4",
   "metadata": {},
   "source": [
    "# Bitcoin data cleaning\n",
    "\n",
    "\n",
    "Dataset obtained from https://www.kaggle.com/datasets/mczielinski/bitcoin-historical-data, where there was over 4 million entries of data. Due to large amount of data, the size of the file was 300,000 KB, and made it too big to push to github. We used the fear and greed index dataset as a restriction, where it starts from 2018-02-01. So we will only use the data from 2018-02-01, to match the time frame. \n",
    "\n",
    "After cleaning the data, we then export it in to the file data"
   ]
  },
  {
   "cell_type": "code",
   "execution_count": 1,
   "id": "67b19767",
   "metadata": {},
   "outputs": [],
   "source": [
    "# Importing the libraries to be used:\n",
    "from datetime import datetime\n",
    "import numpy as np\n",
    "import pandas as pd"
   ]
  },
  {
   "cell_type": "code",
   "execution_count": 2,
   "id": "4a5a0741",
   "metadata": {},
   "outputs": [],
   "source": [
    "def date_convertor(timestamp):\n",
    "    return datetime.fromtimestamp(float(timestamp))"
   ]
  },
  {
   "cell_type": "code",
   "execution_count": 3,
   "id": "92e7d7cc",
   "metadata": {},
   "outputs": [],
   "source": [
    "bitcoin_data = pd.read_csv(\"data/bitstampUSD_1-min_data_2012-01-01_to_2021-03-31.csv\", sep=\",\",parse_dates = [\"Timestamp\"], date_parser = date_convertor) "
   ]
  },
  {
   "cell_type": "code",
   "execution_count": 4,
   "id": "86520db9",
   "metadata": {},
   "outputs": [
    {
     "name": "stdout",
     "output_type": "stream",
     "text": [
      "                  Timestamp      Open      High       Low     Close  \\\n",
      "0       2011-12-31 02:52:00      4.39      4.39      4.39      4.39   \n",
      "478     2011-12-31 10:50:00      4.39      4.39      4.39      4.39   \n",
      "547     2011-12-31 11:59:00      4.50      4.57      4.50      4.57   \n",
      "548     2011-12-31 12:00:00      4.58      4.58      4.58      4.58   \n",
      "1224    2011-12-31 23:16:00      4.58      4.58      4.58      4.58   \n",
      "...                     ...       ...       ...       ...       ...   \n",
      "4857372 2021-03-30 19:56:00  58714.31  58714.31  58686.00  58686.00   \n",
      "4857373 2021-03-30 19:57:00  58683.97  58693.43  58683.97  58685.81   \n",
      "4857374 2021-03-30 19:58:00  58693.43  58723.84  58693.43  58723.84   \n",
      "4857375 2021-03-30 19:59:00  58742.18  58770.38  58742.18  58760.59   \n",
      "4857376 2021-03-30 20:00:00  58767.75  58778.18  58755.97  58778.18   \n",
      "\n",
      "         Volume_(BTC)  Volume_(Currency)  Weighted_Price  \n",
      "0            0.455581           2.000000        4.390000  \n",
      "478         48.000000         210.720000        4.390000  \n",
      "547         37.862297         171.380338        4.526411  \n",
      "548          9.000000          41.220000        4.580000  \n",
      "1224         1.502000           6.879160        4.580000  \n",
      "...               ...                ...             ...  \n",
      "4857372      1.384487       81259.372187    58692.753339  \n",
      "4857373      7.294848      428158.146640    58693.226508  \n",
      "4857374      1.705682      100117.070370    58696.198496  \n",
      "4857375      0.720415       42332.958633    58761.866202  \n",
      "4857376      2.712831      159417.751000    58764.349363  \n",
      "\n",
      "[3613769 rows x 8 columns]\n"
     ]
    }
   ],
   "source": [
    "bitcoin_clean = bitcoin_data.dropna()\n",
    "print(bitcoin_clean)"
   ]
  },
  {
   "cell_type": "code",
   "execution_count": 5,
   "id": "2c329aea",
   "metadata": {},
   "outputs": [
    {
     "name": "stdout",
     "output_type": "stream",
     "text": [
      "(3613769,)\n",
      "3096058 2020-03-31T00:00:00.000000000\n"
     ]
    }
   ],
   "source": [
    "timestamp = np.array(bitcoin_clean[\"Timestamp\"])\n",
    "print(timestamp.shape)\n",
    "start_index = 0\n",
    "for i in range(timestamp.shape[0]):\n",
    "    if \"2020-03-31\" in str(timestamp[i]):\n",
    "        print(i, timestamp[i])\n",
    "        start_index = i\n",
    "        break"
   ]
  },
  {
   "cell_type": "code",
   "execution_count": 6,
   "id": "c6cf99fe",
   "metadata": {},
   "outputs": [],
   "source": [
    "bitcoin_newdata = bitcoin_clean.iloc[start_index:]"
   ]
  },
  {
   "cell_type": "code",
   "execution_count": 7,
   "id": "1ff41354",
   "metadata": {},
   "outputs": [],
   "source": [
    "# EXPORTS THE FINAL PRODUCT AS A NEW FILE TO BE USED\n",
    "# bitcoin_newdata.to_csv(\"data/bitstamp_2020-03-31_to_2021_03_31.csv\") "
   ]
  },
  {
   "cell_type": "code",
   "execution_count": null,
   "id": "8b600d14",
   "metadata": {},
   "outputs": [],
   "source": []
  }
 ],
 "metadata": {
  "kernelspec": {
   "display_name": "Python 3 (ipykernel)",
   "language": "python",
   "name": "python3"
  },
  "language_info": {
   "codemirror_mode": {
    "name": "ipython",
    "version": 3
   },
   "file_extension": ".py",
   "mimetype": "text/x-python",
   "name": "python",
   "nbconvert_exporter": "python",
   "pygments_lexer": "ipython3",
   "version": "3.8.5"
  }
 },
 "nbformat": 4,
 "nbformat_minor": 5
}
