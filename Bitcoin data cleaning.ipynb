{
 "cells": [
  {
   "cell_type": "markdown",
   "id": "6c0acdd4",
   "metadata": {},
   "source": [
    "# Bitcoin data cleaning\n",
    "\n",
    "\n",
    "Dataset obtained from https://www.kaggle.com/datasets/mczielinski/bitcoin-historical-data, where there was over 4 million entries of data. Due to large amount of data, the size of the file was 300,000 KB, and made it too big to push to github. We used the fear and greed index dataset as a restriction, where it starts from 2018-02-01. So we will only use the data from 2018-02-01, to match the time frame. \n",
    "\n",
    "After cleaning the data, we then export it in to the file data"
   ]
  },
  {
   "cell_type": "code",
   "execution_count": 1,
   "id": "67b19767",
   "metadata": {},
   "outputs": [],
   "source": [
    "# Importing the libraries to be used:\n",
    "from datetime import datetime\n",
    "import numpy as np\n",
    "import pandas as pd\n",
    "import requests\n",
    "import os"
   ]
  },
  {
   "cell_type": "code",
   "execution_count": 2,
   "id": "4a5a0741",
   "metadata": {},
   "outputs": [],
   "source": [
    "def date_convertor(timestamp):\n",
    "    return datetime.fromtimestamp(float(timestamp))"
   ]
  },
  {
   "cell_type": "code",
   "execution_count": 3,
   "id": "92e7d7cc",
   "metadata": {},
   "outputs": [],
   "source": [
    "bitcoin_data = pd.read_csv(\"data/bitstampUSD_1-min_data_2012-01-01_to_2021-03-31.csv\", sep=\",\",parse_dates = [\"Timestamp\"], date_parser = date_convertor, index_col=False) "
   ]
  },
  {
   "cell_type": "code",
   "execution_count": 4,
   "id": "86520db9",
   "metadata": {},
   "outputs": [
    {
     "name": "stdout",
     "output_type": "stream",
     "text": [
      "                  Timestamp      Open      High       Low     Close  \\\n",
      "3098119 2017-11-25 02:03:00   8185.00   8185.00   8180.11   8185.00   \n",
      "3098120 2017-11-25 02:04:00   8185.00   8185.00   8185.00   8185.00   \n",
      "3098121 2017-11-25 02:05:00   8185.00   8185.14   8185.00   8185.14   \n",
      "3098122 2017-11-25 02:06:00   8182.01   8182.01   8182.01   8182.01   \n",
      "3098123 2017-11-25 02:07:00   8185.13   8185.14   8185.13   8185.14   \n",
      "...                     ...       ...       ...       ...       ...   \n",
      "4857372 2021-03-30 19:56:00  58714.31  58714.31  58686.00  58686.00   \n",
      "4857373 2021-03-30 19:57:00  58683.97  58693.43  58683.97  58685.81   \n",
      "4857374 2021-03-30 19:58:00  58693.43  58723.84  58693.43  58723.84   \n",
      "4857375 2021-03-30 19:59:00  58742.18  58770.38  58742.18  58760.59   \n",
      "4857376 2021-03-30 20:00:00  58767.75  58778.18  58755.97  58778.18   \n",
      "\n",
      "         Volume_(BTC)  Volume_(Currency)  Weighted_Price  \n",
      "3098119      0.520570        4259.672912     8182.705868  \n",
      "3098120      0.182275        1491.921612     8185.000000  \n",
      "3098121      5.946146       48669.992922     8185.131957  \n",
      "3098122      0.455613        3727.826440     8182.010000  \n",
      "3098123      0.724757        5932.233175     8185.131533  \n",
      "...               ...                ...             ...  \n",
      "4857372      1.384487       81259.372187    58692.753339  \n",
      "4857373      7.294848      428158.146640    58693.226508  \n",
      "4857374      1.705682      100117.070370    58696.198496  \n",
      "4857375      0.720415       42332.958633    58761.866202  \n",
      "4857376      2.712831      159417.751000    58764.349363  \n",
      "\n",
      "[1713769 rows x 8 columns]\n"
     ]
    }
   ],
   "source": [
    "bitcoin_clean = bitcoin_data.dropna()\n",
    "bitcoin_clean = bitcoin_clean[1900000:]\n",
    "print(bitcoin_clean)"
   ]
  },
  {
   "cell_type": "code",
   "execution_count": 5,
   "id": "6dcc2732",
   "metadata": {},
   "outputs": [],
   "source": [
    "timestamp = np.array(bitcoin_clean[\"Timestamp\"])"
   ]
  },
  {
   "cell_type": "code",
   "execution_count": 6,
   "id": "14affb71",
   "metadata": {},
   "outputs": [],
   "source": [
    "bitcoin_day = []\n",
    "start_index = 0\n",
    "prev = timestamp[0]\n",
    "for i in range(timestamp.shape[0]):\n",
    "    if str(prev)[:10] not in str(timestamp[i])[:10]:\n",
    "        if str(prev)[:10] >= \"2018-01-31\":\n",
    "            bitcoin_day.append(bitcoin_clean.iloc[i])\n",
    "        prev = timestamp[i]"
   ]
  },
  {
   "cell_type": "code",
   "execution_count": 7,
   "id": "fab36f61",
   "metadata": {},
   "outputs": [],
   "source": [
    "bitcoin_pd = pd.DataFrame(bitcoin_day)\n",
    "#bitcoin_pd[\"Timestamp\"] = bitcoin_pd[\"Timestamp\"].dt.strftime('%m-%d-%Y')\n",
    "#print(bitcoin_pd[\"Timestamp\"].iloc[0])"
   ]
  },
  {
   "cell_type": "code",
   "execution_count": 8,
   "id": "7b5b3d81",
   "metadata": {},
   "outputs": [
    {
     "name": "stdout",
     "output_type": "stream",
     "text": [
      "          Open      High       Low     Close  Volume_(BTC)  Volume_(Currency)  \\\n",
      "0     10092.62  10109.93  10092.62  10109.93      0.270443        2733.799973   \n",
      "1      8630.00   8630.00   8594.12   8630.00      9.315129       80242.200123   \n",
      "2      8408.72   8419.79   8400.10   8414.00      1.044576        8789.768163   \n",
      "3      9044.01   9044.01   9030.29   9031.93      2.555955       23095.214725   \n",
      "4      8278.56   8286.74   8254.07   8254.07      0.271247        2241.175148   \n",
      "...        ...       ...       ...       ...           ...                ...   \n",
      "1149  52449.23  52537.81  52449.23  52527.35      2.742287      143985.370640   \n",
      "1150  54821.66  54856.01  54821.66  54856.01      0.261643       14346.416748   \n",
      "1151  56095.81  56158.59  56095.81  56149.01      0.898928       50459.981106   \n",
      "1152  55361.25  55417.15  55361.25  55401.67      1.314104       72804.822995   \n",
      "1153  57069.04  57072.89  57033.66  57051.13      0.857266       48912.428151   \n",
      "\n",
      "      Weighted_Price  \n",
      "0       10108.600991  \n",
      "1        8614.179884  \n",
      "2        8414.672765  \n",
      "3        9035.843862  \n",
      "4        8262.495249  \n",
      "...              ...  \n",
      "1149    52505.587896  \n",
      "1150    54832.004555  \n",
      "1151    56133.517533  \n",
      "1152    55402.653850  \n",
      "1153    57056.299759  \n",
      "\n",
      "[1154 rows x 7 columns]\n"
     ]
    }
   ],
   "source": [
    "bitcoin_pd = bitcoin_pd.reset_index()\n",
    "bitcoin_pd = bitcoin_pd.drop(columns=[\"index\", \"Timestamp\"])\n",
    "print(bitcoin_pd)"
   ]
  },
  {
   "cell_type": "markdown",
   "id": "d692d589",
   "metadata": {},
   "source": [
    " # Extracting Fear and Greed Index"
   ]
  },
  {
   "cell_type": "code",
   "execution_count": 9,
   "id": "1ff41354",
   "metadata": {},
   "outputs": [],
   "source": [
    "response = requests.get(\"https://api.alternative.me/fng/?limit=1600&format=csv&date_format=us\")"
   ]
  },
  {
   "cell_type": "code",
   "execution_count": 10,
   "id": "8b600d14",
   "metadata": {},
   "outputs": [],
   "source": [
    "fngIndex = []\n",
    "startIndex = 0\n",
    "endIndex = 0\n",
    "count = 0\n",
    "label = [\"Date\", \"fng_value\", \"fng_classification\"]\n",
    "for i in response.iter_lines():\n",
    "    line = i.decode(\"utf-8\").strip(\"\\t\\n\").split(\",\")\n",
    "    if \"03-30-2021\" == line[0]:\n",
    "        startIndex = count\n",
    "    if \"02-01-2018\" == line[0]:\n",
    "        endIndex = count+1\n",
    "    count+=1\n",
    "    fngIndex.append(line)\n",
    "fngIndex = fngIndex[startIndex:endIndex]"
   ]
  },
  {
   "cell_type": "code",
   "execution_count": 11,
   "id": "c795e151",
   "metadata": {},
   "outputs": [
    {
     "name": "stdout",
     "output_type": "stream",
     "text": [
      "            Date fng_value fng_classification\n",
      "0     02-01-2018        30               Fear\n",
      "1     02-02-2018        15       Extreme Fear\n",
      "2     02-03-2018        40               Fear\n",
      "3     02-04-2018        24       Extreme Fear\n",
      "4     02-05-2018        11       Extreme Fear\n",
      "...          ...       ...                ...\n",
      "1146  03-26-2021        54            Neutral\n",
      "1147  03-27-2021        65              Greed\n",
      "1148  03-28-2021        74              Greed\n",
      "1149  03-29-2021        72              Greed\n",
      "1150  03-30-2021        72              Greed\n",
      "\n",
      "[1151 rows x 3 columns]\n"
     ]
    }
   ],
   "source": [
    "fngArr = np.array(fngIndex[::-1])\n",
    "fngPd = pd.DataFrame(fngArr, columns = label)\n",
    "print(fngPd)"
   ]
  },
  {
   "cell_type": "markdown",
   "id": "11f44536",
   "metadata": {},
   "source": [
    "# Combining Fear and Greed w/ Bitcoin data"
   ]
  },
  {
   "cell_type": "code",
   "execution_count": 12,
   "id": "11af5d83",
   "metadata": {},
   "outputs": [],
   "source": [
    "merged_df = pd.concat([bitcoin_pd, fngPd], axis = 1, join = \"inner\").dropna()"
   ]
  },
  {
   "cell_type": "code",
   "execution_count": 13,
   "id": "3a84d4f0",
   "metadata": {},
   "outputs": [
    {
     "name": "stdout",
     "output_type": "stream",
     "text": [
      "          Open      High       Low     Close  Volume_(BTC)  Volume_(Currency)  \\\n",
      "0     10092.62  10109.93  10092.62  10109.93      0.270443        2733.799973   \n",
      "1      8630.00   8630.00   8594.12   8630.00      9.315129       80242.200123   \n",
      "2      8408.72   8419.79   8400.10   8414.00      1.044576        8789.768163   \n",
      "3      9044.01   9044.01   9030.29   9031.93      2.555955       23095.214725   \n",
      "4      8278.56   8286.74   8254.07   8254.07      0.271247        2241.175148   \n",
      "...        ...       ...       ...       ...           ...                ...   \n",
      "1146  54673.79  54677.14  54638.56  54638.56      0.348995       19077.618823   \n",
      "1147  54342.42  54342.42  54272.46  54279.85      0.480468       26086.504869   \n",
      "1148  52129.52  52157.81  52046.67  52050.00      9.465353      492683.589000   \n",
      "1149  52449.23  52537.81  52449.23  52527.35      2.742287      143985.370640   \n",
      "1150  54821.66  54856.01  54821.66  54856.01      0.261643       14346.416748   \n",
      "\n",
      "      Weighted_Price        Date fng_value fng_classification  \n",
      "0       10108.600991  02-01-2018        30               Fear  \n",
      "1        8614.179884  02-02-2018        15       Extreme Fear  \n",
      "2        8414.672765  02-03-2018        40               Fear  \n",
      "3        9035.843862  02-04-2018        24       Extreme Fear  \n",
      "4        8262.495249  02-05-2018        11       Extreme Fear  \n",
      "...              ...         ...       ...                ...  \n",
      "1146    54664.488133  03-26-2021        54            Neutral  \n",
      "1147    54293.994874  03-27-2021        65              Greed  \n",
      "1148    52051.266155  03-28-2021        74              Greed  \n",
      "1149    52505.587896  03-29-2021        72              Greed  \n",
      "1150    54832.004555  03-30-2021        72              Greed  \n",
      "\n",
      "[1151 rows x 10 columns]\n"
     ]
    }
   ],
   "source": [
    "print(merged_df)"
   ]
  },
  {
   "cell_type": "markdown",
   "id": "833f7247",
   "metadata": {},
   "source": [
    "# Converting to CSV"
   ]
  },
  {
   "cell_type": "code",
   "execution_count": 14,
   "id": "e82ebe53",
   "metadata": {},
   "outputs": [
    {
     "name": "stdout",
     "output_type": "stream",
     "text": [
      "Need to remove old file bitcoin\n"
     ]
    }
   ],
   "source": [
    "if not(os.path.exists(\"data/bitstamp_2018-02-01_to_2021_03_31.csv\")):\n",
    "    bitcoin_pd.to_csv(\"data/bitstamp_2018-02-01_to_2021_03_31.csv\")\n",
    "else:\n",
    "    print(\"Need to remove old file bitcoin\")"
   ]
  },
  {
   "cell_type": "code",
   "execution_count": 15,
   "id": "de9a23c8",
   "metadata": {},
   "outputs": [
    {
     "name": "stdout",
     "output_type": "stream",
     "text": [
      "Need to remove old file merge file\n"
     ]
    }
   ],
   "source": [
    "if not(os.path.exists(\"data/merge_bitcoin_n_fear.csv\")):\n",
    "    merged_df.to_csv(\"data/merge_bitcoin_n_fear.csv\") \n",
    "else:\n",
    "    print(\"Need to remove old file merge file\")"
   ]
  },
  {
   "cell_type": "code",
   "execution_count": null,
   "id": "d0f1bac2",
   "metadata": {},
   "outputs": [],
   "source": []
  }
 ],
 "metadata": {
  "kernelspec": {
   "display_name": "Python 3 (ipykernel)",
   "language": "python",
   "name": "python3"
  },
  "language_info": {
   "codemirror_mode": {
    "name": "ipython",
    "version": 3
   },
   "file_extension": ".py",
   "mimetype": "text/x-python",
   "name": "python",
   "nbconvert_exporter": "python",
   "pygments_lexer": "ipython3",
   "version": "3.8.5"
  }
 },
 "nbformat": 4,
 "nbformat_minor": 5
}
