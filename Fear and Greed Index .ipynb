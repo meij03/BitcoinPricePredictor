{
 "cells": [
  {
   "cell_type": "code",
   "execution_count": 1,
   "id": "46a4ab30",
   "metadata": {},
   "outputs": [],
   "source": [
    "import requests\n",
    "import numpy as np\n",
    "import pandas as pd\n",
    "import json"
   ]
  },
  {
   "cell_type": "code",
   "execution_count": 2,
   "id": "090c1099",
   "metadata": {},
   "outputs": [],
   "source": [
    "response = requests.get(\"https://api.alternative.me/fng/?limit=1525&format=csv&date_format=us\")"
   ]
  },
  {
   "cell_type": "code",
   "execution_count": 3,
   "id": "0db25933",
   "metadata": {},
   "outputs": [],
   "source": [
    "fngIndex = []\n",
    "startIndex = 0\n",
    "endIndex = 0\n",
    "count = 0\n",
    "label = 0\n",
    "for i in response.iter_lines():\n",
    "    line = i.decode(\"utf-8\").strip(\"\\t\\n\").split(\",\")\n",
    "    if \"fng_value\" == line[0]:\n",
    "        label = np.array(line)\n",
    "    if \"03-31-2021\" == line[0]:\n",
    "        startIndex = count\n",
    "    if \"02-01-2018\" == line[0]:\n",
    "        endIndex = count+1\n",
    "    count+=1\n",
    "    fngIndex.append(line)\n",
    "fngIndex = fngIndex[startIndex:endIndex]"
   ]
  },
  {
   "cell_type": "code",
   "execution_count": 4,
   "id": "5c693ded",
   "metadata": {},
   "outputs": [
    {
     "name": "stdout",
     "output_type": "stream",
     "text": [
      "       fng_value fng_classification           date\n",
      "0     03-31-2021                 76  Extreme Greed\n",
      "1     03-30-2021                 72          Greed\n",
      "2     03-29-2021                 72          Greed\n",
      "3     03-28-2021                 74          Greed\n",
      "4     03-27-2021                 65          Greed\n",
      "...          ...                ...            ...\n",
      "1147  02-05-2018                 11   Extreme Fear\n",
      "1148  02-04-2018                 24   Extreme Fear\n",
      "1149  02-03-2018                 40           Fear\n",
      "1150  02-02-2018                 15   Extreme Fear\n",
      "1151  02-01-2018                 30           Fear\n",
      "\n",
      "[1152 rows x 3 columns]\n"
     ]
    }
   ],
   "source": [
    "fngArr = np.array(fngIndex)\n",
    "fngPd = pd.DataFrame(fngArr, columns = label)\n",
    "print(fngPd)"
   ]
  },
  {
   "cell_type": "code",
   "execution_count": 5,
   "id": "dff8e0d7",
   "metadata": {},
   "outputs": [],
   "source": [
    "#fngPd.to_csv(\"data/fear-n-greed-02-01-2018-to-03-31-2021.csv\")"
   ]
  },
  {
   "cell_type": "code",
   "execution_count": null,
   "id": "9e1ab4f0",
   "metadata": {},
   "outputs": [],
   "source": []
  }
 ],
 "metadata": {
  "kernelspec": {
   "display_name": "Python 3 (ipykernel)",
   "language": "python",
   "name": "python3"
  },
  "language_info": {
   "codemirror_mode": {
    "name": "ipython",
    "version": 3
   },
   "file_extension": ".py",
   "mimetype": "text/x-python",
   "name": "python",
   "nbconvert_exporter": "python",
   "pygments_lexer": "ipython3",
   "version": "3.8.5"
  }
 },
 "nbformat": 4,
 "nbformat_minor": 5
}
