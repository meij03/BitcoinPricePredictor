{
 "cells": [
  {
   "cell_type": "markdown",
   "metadata": {},
   "source": [
    "# Bitcoing Price Predictor\n",
    "\n",
    "\n",
    "We want to predict the price of bitcoin using historical bitcoin data as well as its sentiment analysis over time. We are planning on experimenting with time series models such as LSTM to predict token price. To measure sentiment analysis, we will be using the fear and greed API which measures engagement with Bitcoin. \n",
    "\n"
   ]
  },
  {
   "cell_type": "code",
   "execution_count": 1,
   "metadata": {},
   "outputs": [],
   "source": [
    "# Importing the libraries to be used:\n",
    "from datetime import datetime\n",
    "import numpy as np\n",
    "import pandas as pd\n",
    "from sklearn import linear_model\n",
    "import numpy.polynomial.polynomial as poly\n",
    "import matplotlib.pyplot as plt\n",
    "%matplotlib inline \n",
    "\n",
    "from sklearn.preprocessing import StandardScaler, PolynomialFeatures  \n",
    "from sklearn.model_selection import train_test_split  # The standard - train/test to prevent overfitting and choose hyperparameters\n",
    "from sklearn.metrics import accuracy_score # \n",
    "from sklearn import metrics\n",
    "import matplotlib.pyplot as plt "
   ]
  },
  {
   "cell_type": "markdown",
   "metadata": {},
   "source": [
    "# Extracting and Training dataset"
   ]
  },
  {
   "cell_type": "code",
   "execution_count": 2,
   "metadata": {},
   "outputs": [],
   "source": [
    "bitcoin_data = pd.read_csv(\"data/bitstamp_2020-03-31_to_2021_03_31.csv\", sep=\",\").iloc[:, 1:]"
   ]
  },
  {
   "cell_type": "code",
   "execution_count": 3,
   "metadata": {},
   "outputs": [
    {
     "name": "stdout",
     "output_type": "stream",
     "text": [
      "                  Timestamp      Open      High       Low     Close  \\\n",
      "0       2020-03-31 00:00:00   6448.61   6448.71   6431.82   6435.00   \n",
      "1       2020-03-31 00:01:00   6439.73   6439.73   6418.56   6424.85   \n",
      "2       2020-03-31 00:02:00   6435.61   6436.02   6431.62   6431.62   \n",
      "3       2020-03-31 00:03:00   6431.62   6442.21   6430.09   6442.21   \n",
      "4       2020-03-31 00:04:00   6447.13   6447.13   6435.60   6437.58   \n",
      "...                     ...       ...       ...       ...       ...   \n",
      "517706  2021-03-30 19:56:00  58714.31  58714.31  58686.00  58686.00   \n",
      "517707  2021-03-30 19:57:00  58683.97  58693.43  58683.97  58685.81   \n",
      "517708  2021-03-30 19:58:00  58693.43  58723.84  58693.43  58723.84   \n",
      "517709  2021-03-30 19:59:00  58742.18  58770.38  58742.18  58760.59   \n",
      "517710  2021-03-30 20:00:00  58767.75  58778.18  58755.97  58778.18   \n",
      "\n",
      "        Volume_(BTC)  Volume_(Currency)  Weighted_Price  \n",
      "0          23.038659      148319.713520     6437.862345  \n",
      "1          21.546105      138452.239090     6425.859212  \n",
      "2           2.877309       18517.391928     6435.664081  \n",
      "3          11.460413       73793.020164     6438.949432  \n",
      "4           2.309931       14878.998427     6441.316789  \n",
      "...              ...                ...             ...  \n",
      "517706      1.384487       81259.372187    58692.753339  \n",
      "517707      7.294848      428158.146640    58693.226508  \n",
      "517708      1.705682      100117.070370    58696.198496  \n",
      "517709      0.720415       42332.958633    58761.866202  \n",
      "517710      2.712831      159417.751000    58764.349363  \n",
      "\n",
      "[517711 rows x 8 columns]\n"
     ]
    }
   ],
   "source": [
    "print(bitcoin_data)\n"
   ]
  },
  {
   "cell_type": "code",
   "execution_count": null,
   "metadata": {},
   "outputs": [],
   "source": []
  }
 ],
 "metadata": {
  "interpreter": {
   "hash": "b346b40471ba213f5e961a5d782728ceb56ae92186b2dfa6f5b328dd50df76d4"
  },
  "kernelspec": {
   "display_name": "Python 3 (ipykernel)",
   "language": "python",
   "name": "python3"
  },
  "language_info": {
   "codemirror_mode": {
    "name": "ipython",
    "version": 3
   },
   "file_extension": ".py",
   "mimetype": "text/x-python",
   "name": "python",
   "nbconvert_exporter": "python",
   "pygments_lexer": "ipython3",
   "version": "3.8.5"
  }
 },
 "nbformat": 4,
 "nbformat_minor": 2
}
